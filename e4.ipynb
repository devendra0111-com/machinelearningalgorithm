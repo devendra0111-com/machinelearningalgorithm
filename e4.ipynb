{
 "cells": [
  {
   "cell_type": "code",
   "execution_count": 13,
   "metadata": {},
   "outputs": [
    {
     "data": {
      "text/plain": [
       "[1, 2, 10, 4, 5, 6]"
      ]
     },
     "execution_count": 13,
     "metadata": {},
     "output_type": "execute_result"
    }
   ],
   "source": [
    "p = [1,2,3,4,5,6]\n",
    "t = tuple(p)\n",
    "\n",
    "t = p\n",
    "p\n",
    "t\n",
    "t[2] = 12\n",
    "t\n",
    "p\n",
    "import copy\n",
    "p = copy.copy(t)\n",
    "p[2] = 10\n",
    "p"
   ]
  },
  {
   "cell_type": "code",
   "execution_count": 14,
   "metadata": {},
   "outputs": [
    {
     "data": {
      "text/plain": [
       "[1, 2, 12, 4, 5, 6]"
      ]
     },
     "execution_count": 14,
     "metadata": {},
     "output_type": "execute_result"
    }
   ],
   "source": [
    "t"
   ]
  },
  {
   "cell_type": "code",
   "execution_count": 15,
   "metadata": {},
   "outputs": [
    {
     "data": {
      "text/plain": [
       "[1, 2, 12, [11, 13, 14, 99], 5, 6]"
      ]
     },
     "execution_count": 15,
     "metadata": {},
     "output_type": "execute_result"
    }
   ],
   "source": [
    "t[3] = [11,13,14,99]\n",
    "t"
   ]
  },
  {
   "cell_type": "code",
   "execution_count": 17,
   "metadata": {},
   "outputs": [
    {
     "data": {
      "text/plain": [
       "[1, 2, 12, [11, 13, 14, 99], 5, 6]"
      ]
     },
     "execution_count": 17,
     "metadata": {},
     "output_type": "execute_result"
    }
   ],
   "source": [
    "p = t\n",
    "p"
   ]
  },
  {
   "cell_type": "code",
   "execution_count": 18,
   "metadata": {},
   "outputs": [
    {
     "data": {
      "text/plain": [
       "[1, 2, 12, [11, 13, 14, 1000], 5, 6]"
      ]
     },
     "execution_count": 18,
     "metadata": {},
     "output_type": "execute_result"
    }
   ],
   "source": [
    "t[3][3] = 1000\n",
    "t"
   ]
  },
  {
   "cell_type": "code",
   "execution_count": 19,
   "metadata": {},
   "outputs": [
    {
     "data": {
      "text/plain": [
       "[1, 2, 12, [11, 13, 14, 1000], 5, 6]"
      ]
     },
     "execution_count": 19,
     "metadata": {},
     "output_type": "execute_result"
    }
   ],
   "source": [
    "p"
   ]
  },
  {
   "cell_type": "code",
   "execution_count": 20,
   "metadata": {},
   "outputs": [
    {
     "data": {
      "text/plain": [
       "[1, 2, 12, [11, 13, 14, 1000], 5, 6]"
      ]
     },
     "execution_count": 20,
     "metadata": {},
     "output_type": "execute_result"
    }
   ],
   "source": [
    "t = copy.deepcopy(p)\n",
    "t"
   ]
  },
  {
   "cell_type": "code",
   "execution_count": 21,
   "metadata": {},
   "outputs": [
    {
     "data": {
      "text/plain": [
       "[1, 2, 12, [11, 13, 14, 1000], 5, 6]"
      ]
     },
     "execution_count": 21,
     "metadata": {},
     "output_type": "execute_result"
    }
   ],
   "source": [
    "p"
   ]
  },
  {
   "cell_type": "code",
   "execution_count": 22,
   "metadata": {},
   "outputs": [
    {
     "data": {
      "text/plain": [
       "[1, 2, 12, [11, 13, 14, 123456], 5, 6]"
      ]
     },
     "execution_count": 22,
     "metadata": {},
     "output_type": "execute_result"
    }
   ],
   "source": [
    "t[3][3] = 123456\n",
    "t"
   ]
  },
  {
   "cell_type": "code",
   "execution_count": 23,
   "metadata": {},
   "outputs": [
    {
     "data": {
      "text/plain": [
       "[1, 2, 12, [11, 13, 14, 1000], 5, 6]"
      ]
     },
     "execution_count": 23,
     "metadata": {},
     "output_type": "execute_result"
    }
   ],
   "source": [
    "p"
   ]
  },
  {
   "cell_type": "code",
   "execution_count": 36,
   "metadata": {},
   "outputs": [
    {
     "name": "stdout",
     "output_type": "stream",
     "text": [
      "enter value of a:2\n",
      "enter value of b:3\n",
      "now a is 3\n",
      "now b is 2\n"
     ]
    }
   ],
   "source": [
    "a = int(input('enter value of a:'))\n",
    "b = int(input('enter value of b:'))\n",
    "a,b = b,a\n",
    "print('now a is',a )\n",
    "print('now b is',b )"
   ]
  },
  {
   "cell_type": "code",
   "execution_count": 38,
   "metadata": {},
   "outputs": [
    {
     "name": "stdout",
     "output_type": "stream",
     "text": [
      "enter value of a:2\n",
      "enter value of b:3\n",
      "a is 3\n",
      "b is 2\n"
     ]
    }
   ],
   "source": [
    "a = int(input('enter value of a:'))\n",
    "b = int(input('enter value of b:'))\n",
    "a = a +b\n",
    "b =a - b\n",
    "a = a -b\n",
    "print('a is', a)\n",
    "print('b is', b)"
   ]
  },
  {
   "cell_type": "code",
   "execution_count": 2,
   "metadata": {},
   "outputs": [
    {
     "name": "stdout",
     "output_type": "stream",
     "text": [
      "enter teperature value in degree celcius:23\n",
      "temperature value in farehiet is 73.4\n"
     ]
    }
   ],
   "source": [
    "t1 = float(input('enter teperature value in degree celcius:'))\n",
    "F = (9/5)*t1 + 32\n",
    "print('temperature value in farehiet is',F)"
   ]
  },
  {
   "cell_type": "code",
   "execution_count": 30,
   "metadata": {},
   "outputs": [
    {
     "name": "stdout",
     "output_type": "stream",
     "text": [
      "1,add\n",
      "2,multiply\n",
      "3,divide\n",
      "4,substraction\n",
      "enter your choice 1/2/3/42\n",
      "2\n",
      "enter x:12\n",
      "enter y:34\n",
      "the value is: 408.0\n"
     ]
    }
   ],
   "source": [
    "def add(x,y):\n",
    "    return x + y\n",
    "\n",
    "def multiply(x,y):\n",
    "    return x *y \n",
    "\n",
    "def divide(x,y):\n",
    "    return x/y\n",
    "\n",
    "def substraction(x,y):\n",
    "    return x - y\n",
    "\n",
    "print('1,add')\n",
    "print('2,multiply')\n",
    "print('3,divide')\n",
    "print('4,substraction')\n",
    "choice = input('enter your choice 1/2/3/4')\n",
    "print(choice)\n",
    "\n",
    "n1 = float(input('enter x:'))\n",
    "n2 = float(input('enter y:'))\n",
    "\n",
    "if choice == '1':\n",
    "    print('the value is:',add(n1,n2))\n",
    "elif choice == '2':\n",
    "    print('the value is:',multiply(n1,n2))\n",
    "elif choice == '3':\n",
    "    print('the value is:', divide(n1,n2))\n",
    "elif choice == '4':\n",
    "    print('the value is:',divide(n1,n2))\n",
    "else:\n",
    "    print('invalid input')"
   ]
  },
  {
   "cell_type": "code",
   "execution_count": 22,
   "metadata": {},
   "outputs": [
    {
     "name": "stdout",
     "output_type": "stream",
     "text": [
      "enter name:devdnra\n",
      "d is present at even index\n",
      "v is present at even index\n",
      "n is present at even index\n",
      "a is present at even index\n"
     ]
    }
   ],
   "source": [
    "name = input('enter name:')\n",
    "for i in range(len(name)):\n",
    "    if i%2 == 0:\n",
    "        print(name[i],'is present at even index')"
   ]
  },
  {
   "cell_type": "code",
   "execution_count": 1,
   "metadata": {},
   "outputs": [
    {
     "name": "stdout",
     "output_type": "stream",
     "text": [
      "enter x;54\n",
      "enter y:10\n",
      "the value is 64.0\n"
     ]
    }
   ],
   "source": [
    "def product(x,y):\n",
    "    return x*y \n",
    "\n",
    "def add(x,y):\n",
    "    return x + y\n",
    "\n",
    "n1 = float(input('enter x;'))\n",
    "n2 = float(input('enter y:'))\n",
    "\n",
    "if n1 * n2 >= 1000 :\n",
    "    print('THE VALUE IS', product(n1,n2))\n",
    "    \n",
    "else:\n",
    "    print('the value is',add(n1,n2))"
   ]
  },
  {
   "cell_type": "code",
   "execution_count": 3,
   "metadata": {},
   "outputs": [
    {
     "name": "stdout",
     "output_type": "stream",
     "text": [
      "1505 :::1540 :::1575 :::1610 :::1645 :::1680 :::1715 :::1750 :::1785 :::1820 :::1855 :::1890 :::1925 :::1960 :::1995 :::2030 :::2065 :::2100 :::2135 :::2170 :::2205 :::2240 :::2275 :::2310 :::2345 :::2380 :::2415 :::2450 :::2485 :::2520 :::2555 :::2590 :::2625 :::2660 :::2695 :::"
     ]
    }
   ],
   "source": [
    "for i in range(1500,2701):\n",
    "    if i % 5 == 0 and i % 7 == 0:\n",
    "        print(i,end = ' :::')"
   ]
  },
  {
   "cell_type": "code",
   "execution_count": 8,
   "metadata": {},
   "outputs": [
    {
     "name": "stdout",
     "output_type": "stream",
     "text": [
      "0\n",
      "1\n",
      "2\n",
      "4\n",
      "5\n"
     ]
    }
   ],
   "source": [
    "for i in range(0,7):\n",
    "    if i == 3 or i == 6:\n",
    "        continue\n",
    "    print(i)"
   ]
  },
  {
   "cell_type": "code",
   "execution_count": 1,
   "metadata": {},
   "outputs": [
    {
     "name": "stdout",
     "output_type": "stream",
     "text": [
      "200 ,202 ,204 ,206 ,208 ,220 ,222 ,224 ,226 ,228 ,240 ,242 ,244 ,246 ,248 ,260 ,262 ,264 ,266 ,268 ,280 ,282 ,284 ,286 ,288 ,400 ,"
     ]
    }
   ],
   "source": [
    "for num in range(100,401):\n",
    "    s = str(num)\n",
    "    if int(s[0])%2==0 and int(s[1])%2 ==0 and int(s[2])%2 == 0:\n",
    "        print(num,end = ' ,')"
   ]
  },
  {
   "cell_type": "code",
   "execution_count": null,
   "metadata": {},
   "outputs": [],
   "source": []
  },
  {
   "cell_type": "code",
   "execution_count": 21,
   "metadata": {},
   "outputs": [
    {
     "name": "stdout",
     "output_type": "stream",
     "text": [
      "enter the number of rows:6\n",
      "*\n",
      "**\n",
      "***\n",
      "****\n",
      "*****\n",
      "******\n",
      "******\n",
      "*****\n",
      "****\n",
      "***\n",
      "**\n",
      "*\n"
     ]
    }
   ],
   "source": [
    "n = int(input('enter the number of rows:'))\n",
    "\n",
    "for i in range(n):\n",
    "    print('*' *(i+1))\n",
    "    \n",
    "for i in range(n):\n",
    "    print('*'* (n -i))\n"
   ]
  },
  {
   "cell_type": "code",
   "execution_count": null,
   "metadata": {},
   "outputs": [],
   "source": []
  },
  {
   "cell_type": "code",
   "execution_count": null,
   "metadata": {},
   "outputs": [],
   "source": []
  },
  {
   "cell_type": "code",
   "execution_count": null,
   "metadata": {},
   "outputs": [],
   "source": []
  },
  {
   "cell_type": "code",
   "execution_count": null,
   "metadata": {},
   "outputs": [],
   "source": []
  },
  {
   "cell_type": "code",
   "execution_count": null,
   "metadata": {},
   "outputs": [],
   "source": []
  },
  {
   "cell_type": "code",
   "execution_count": null,
   "metadata": {},
   "outputs": [],
   "source": []
  },
  {
   "cell_type": "code",
   "execution_count": null,
   "metadata": {},
   "outputs": [],
   "source": []
  },
  {
   "cell_type": "code",
   "execution_count": null,
   "metadata": {},
   "outputs": [],
   "source": []
  },
  {
   "cell_type": "code",
   "execution_count": null,
   "metadata": {},
   "outputs": [],
   "source": []
  },
  {
   "cell_type": "code",
   "execution_count": 1,
   "metadata": {},
   "outputs": [
    {
     "name": "stdout",
     "output_type": "stream",
     "text": [
      "{'I': 1, 't': 5, ' ': 9, 'w': 3, 'a': 4, 's': 3, 'c': 4, 'o': 2, 'l': 3, 'd': 2, 'A': 1, 'p': 1, 'r': 2, 'i': 4, ',': 1, 'n': 3, 'h': 2, 'k': 2, 'g': 1, 'e': 2}\n"
     ]
    }
   ],
   "source": [
    "message = 'It was a cold April,and thw clock was sticking thirteen'\n",
    "d = {}\n",
    "for ch in message:\n",
    "    if ch in d.keys():\n",
    "        d[ch] = d[ch]+ 1\n",
    "    else:\n",
    "        d[ch] = 1\n",
    "        \n",
    "print(d)"
   ]
  },
  {
   "cell_type": "code",
   "execution_count": 3,
   "metadata": {},
   "outputs": [
    {
     "name": "stdout",
     "output_type": "stream",
     "text": [
      "enter name:\n"
     ]
    }
   ],
   "source": [
    "a = {'Alice':'1 Jan','Bob':'3 May','Carlos':'10 Sep'}\n",
    "while True:\n",
    "    name = input('enter name:')\n",
    "    if name in a:\n",
    "        b = input('enter bday:')\n",
    "        print('hi',name,'ur bday is on',b)\n",
    "        continue\n",
    "    if name not in a:\n",
    "        break"
   ]
  },
  {
   "cell_type": "code",
   "execution_count": 2,
   "metadata": {},
   "outputs": [
    {
     "data": {
      "text/plain": [
       "dict_values(['1 Jan', '3 May', '10 Sep'])"
      ]
     },
     "execution_count": 2,
     "metadata": {},
     "output_type": "execute_result"
    }
   ],
   "source": [
    "a = {'Alice':'1 Jan','Bob':'3 May','Carlos':'10 Sep'}\n",
    "a.values()"
   ]
  },
  {
   "cell_type": "code",
   "execution_count": 3,
   "metadata": {},
   "outputs": [
    {
     "data": {
      "text/plain": [
       "dict_items([('Alice', '1 Jan'), ('Bob', '3 May'), ('Carlos', '10 Sep')])"
      ]
     },
     "execution_count": 3,
     "metadata": {},
     "output_type": "execute_result"
    }
   ],
   "source": [
    "a.items()"
   ]
  },
  {
   "cell_type": "code",
   "execution_count": 4,
   "metadata": {},
   "outputs": [
    {
     "data": {
      "text/plain": [
       "dict_keys(['Alice', 'Bob', 'Carlos'])"
      ]
     },
     "execution_count": 4,
     "metadata": {},
     "output_type": "execute_result"
    }
   ],
   "source": [
    "a.keys()"
   ]
  },
  {
   "cell_type": "code",
   "execution_count": 5,
   "metadata": {},
   "outputs": [
    {
     "data": {
      "text/plain": [
       "{'Alice': '1 Jan', 'Bob': '3 May', 'Carlos': '10 Sep'}"
      ]
     },
     "execution_count": 5,
     "metadata": {},
     "output_type": "execute_result"
    }
   ],
   "source": [
    "a"
   ]
  },
  {
   "cell_type": "code",
   "execution_count": 6,
   "metadata": {},
   "outputs": [
    {
     "data": {
      "text/plain": [
       "{'Alice': '1 Jan', 'Bob': '3 May', 'Carlos': '10 Sep'}"
      ]
     },
     "execution_count": 6,
     "metadata": {},
     "output_type": "execute_result"
    }
   ],
   "source": [
    "a"
   ]
  },
  {
   "cell_type": "code",
   "execution_count": 15,
   "metadata": {},
   "outputs": [
    {
     "name": "stdout",
     "output_type": "stream",
     "text": [
      "enter name:Alice\n",
      "enter dob:1 jan\n"
     ]
    }
   ],
   "source": [
    "name = input('enter name:')\n",
    "if name in a.keys():\n",
    "    b = input('enter dob:')\n",
    "    if b in a.values():\n",
    "        print('Hi',name,'ur dob is on',b)\n",
    "        "
   ]
  },
  {
   "cell_type": "code",
   "execution_count": null,
   "metadata": {},
   "outputs": [],
   "source": []
  },
  {
   "cell_type": "code",
   "execution_count": 18,
   "metadata": {},
   "outputs": [
    {
     "name": "stdout",
     "output_type": "stream",
     "text": [
      "enter ur DOB:zoe\n",
      "not there\n"
     ]
    }
   ],
   "source": [
    "dob = input('enter ur DOB:')\n",
    "if dob in a.keys():\n",
    "    print('it is there')\n",
    "else:\n",
    "    print('not there')"
   ]
  },
  {
   "cell_type": "code",
   "execution_count": null,
   "metadata": {},
   "outputs": [],
   "source": []
  },
  {
   "cell_type": "code",
   "execution_count": null,
   "metadata": {},
   "outputs": [],
   "source": []
  },
  {
   "cell_type": "code",
   "execution_count": 10,
   "metadata": {},
   "outputs": [
    {
     "data": {
      "text/plain": [
       "{'captain america': '12 march', 'iron man': '12 jan', 'groot': '23 april'}"
      ]
     },
     "execution_count": 10,
     "metadata": {},
     "output_type": "execute_result"
    }
   ],
   "source": [
    "d = {'captain america':'12 march','iron man':'12 jan','groot':'23 april'}\n",
    "d"
   ]
  },
  {
   "cell_type": "code",
   "execution_count": null,
   "metadata": {},
   "outputs": [],
   "source": []
  },
  {
   "cell_type": "code",
   "execution_count": 23,
   "metadata": {},
   "outputs": [
    {
     "name": "stdout",
     "output_type": "stream",
     "text": [
      "enter name:john\n",
      "enter dob:15 dec\n",
      "{'Alice': '1 Jan', 'Bob': '3 May', 'Carlos': '10 Sep', 'john': '15 dec'}\n"
     ]
    }
   ],
   "source": [
    "d = {'Alice':'1 Jan','Bob':'3 May','Carlos':'10 Sep'}\n",
    "n = input('enter name:')\n",
    "for(name,dob)in d.items():\n",
    "    if n == name:\n",
    "        print('hi',n,'ur dob is',dob)\n",
    "        break\n",
    "    if n!= name:\n",
    "        break\n",
    "if n != name:\n",
    "    db = input('enter dob:')\n",
    "    d.__setitem__(n,db)\n",
    "    print(d)"
   ]
  },
  {
   "cell_type": "code",
   "execution_count": 24,
   "metadata": {},
   "outputs": [
    {
     "data": {
      "text/plain": [
       "{'Alice': '1 Jan', 'Bob': '3 May', 'Carlos': '10 Sep', 'john': '15 dec'}"
      ]
     },
     "execution_count": 24,
     "metadata": {},
     "output_type": "execute_result"
    }
   ],
   "source": [
    "d"
   ]
  },
  {
   "cell_type": "code",
   "execution_count": null,
   "metadata": {},
   "outputs": [],
   "source": [
    "lst = d.keys()\n",
    "print('welcome to the bday')\n",
    "for x in lst:\n",
    "    print(x)\n",
    "choice = input('whose bday u want to look :')\n",
    "if choice in lst:\n",
    "    print('{} bday')"
   ]
  }
 ],
 "metadata": {
  "kernelspec": {
   "display_name": "Python 3",
   "language": "python",
   "name": "python3"
  },
  "language_info": {
   "codemirror_mode": {
    "name": "ipython",
    "version": 3
   },
   "file_extension": ".py",
   "mimetype": "text/x-python",
   "name": "python",
   "nbconvert_exporter": "python",
   "pygments_lexer": "ipython3",
   "version": "3.7.4"
  }
 },
 "nbformat": 4,
 "nbformat_minor": 2
}
