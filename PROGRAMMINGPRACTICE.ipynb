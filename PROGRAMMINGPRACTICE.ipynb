{
 "cells": [
  {
   "cell_type": "code",
   "execution_count": 11,
   "metadata": {},
   "outputs": [
    {
     "name": "stdout",
     "output_type": "stream",
     "text": [
      "enter your name:machine\n",
      "at index 0 letter is m\n",
      "at index 1 letter is a\n",
      "at index 2 letter is c\n",
      "at index 3 letter is h\n",
      "at index 4 letter is i\n",
      "at index 5 letter is n\n",
      "at index 6 letter is e\n"
     ]
    }
   ],
   "source": [
    "name = input('enter your name:')\n",
    "for i in range(len(name)):\n",
    "    print('at index',i,'letter is',name[i])"
   ]
  },
  {
   "cell_type": "code",
   "execution_count": 4,
   "metadata": {},
   "outputs": [
    {
     "name": "stdout",
     "output_type": "stream",
     "text": [
      "eyer name:riugn;\n",
      "('r', 'i', 'u', 'g', 'n', ';')\n"
     ]
    }
   ],
   "source": [
    "name = input('eyer name:')\n",
    "t = tuple(name)\n",
    "print(t)"
   ]
  },
  {
   "cell_type": "code",
   "execution_count": 20,
   "metadata": {},
   "outputs": [
    {
     "name": "stdout",
     "output_type": "stream",
     "text": [
      "enter number:23\n",
      "46\n"
     ]
    }
   ],
   "source": [
    "num = int(input('enter number:'))\n",
    "sum = 0\n",
    "for i in str(num):\n",
    "    sum = sum + num\n",
    "print(sum)"
   ]
  },
  {
   "cell_type": "code",
   "execution_count": null,
   "metadata": {},
   "outputs": [],
   "source": []
  },
  {
   "cell_type": "code",
   "execution_count": 17,
   "metadata": {},
   "outputs": [
    {
     "name": "stdout",
     "output_type": "stream",
     "text": [
      "3\n"
     ]
    }
   ],
   "source": [
    "import random\n",
    "a = random.randint(1,3)\n",
    "print(a)"
   ]
  },
  {
   "cell_type": "code",
   "execution_count": 27,
   "metadata": {},
   "outputs": [
    {
     "data": {
      "text/plain": [
       "12"
      ]
     },
     "execution_count": 27,
     "metadata": {},
     "output_type": "execute_result"
    }
   ],
   "source": [
    "remainder = 123//10\n",
    "remainder"
   ]
  },
  {
   "cell_type": "code",
   "execution_count": 9,
   "metadata": {},
   "outputs": [
    {
     "name": "stdout",
     "output_type": "stream",
     "text": [
      "enter the number:678\n",
      "21\n",
      "3\n"
     ]
    }
   ],
   "source": [
    "num = int(input('enter the number:'))\n",
    "sum = 0\n",
    "while num>0:\n",
    "    remainder = num % 10\n",
    "    sum = sum + remainder\n",
    "    num =(num) //10\n",
    "print(sum)\n",
    "z = sum \n",
    "\n",
    "z1 = 0\n",
    "while z >0:\n",
    "    remainder1 = z%10\n",
    "    z1 = z1 + remainder1\n",
    "    z = z//10\n",
    "print(z1)"
   ]
  },
  {
   "cell_type": "code",
   "execution_count": 10,
   "metadata": {},
   "outputs": [
    {
     "name": "stdout",
     "output_type": "stream",
     "text": [
      "enter the number:678\n",
      "3\n"
     ]
    }
   ],
   "source": [
    "num = int(input('enter the number:'))\n",
    "if num>0:\n",
    "    print((num-1)%9 +1)\n",
    "else:\n",
    "    print('0')\n"
   ]
  },
  {
   "cell_type": "code",
   "execution_count": 5,
   "metadata": {},
   "outputs": [
    {
     "name": "stdout",
     "output_type": "stream",
     "text": [
      "1. add\n",
      "2, sub\n",
      "3, mltply\n",
      "4, dvide\n",
      "enter choices:5\n",
      "number x:3\n",
      "number y:4\n",
      "invalid choice\n"
     ]
    }
   ],
   "source": [
    "def add(x,y):\n",
    "    return x + y\n",
    "def sub(x,y):\n",
    "    return x - y\n",
    "def mltply(x,y):\n",
    "    return x *y\n",
    "def dvide(x,y):\n",
    "    return x % y\n",
    "    \n",
    "print('1. add')\n",
    "print('2, sub')\n",
    "print('3, mltply')\n",
    "print('4, dvide')\n",
    "choice = input('enter choices:')\n",
    "n1 = int(input('number x:'))\n",
    "n2 = int(input('number y:'))\n",
    "if choice == '1':\n",
    "    print('sum is', add(n1,n2))\n",
    "elif choice == '2':\n",
    "    print('sub is', sub(n1,n2))\n",
    "elif choice == '3':\n",
    "    print('multiplication is ',mltply(n1,n2))\n",
    "elif choice == '4':\n",
    "    print('division is', dvide(n1,n2))\n",
    "else:\n",
    "    print('invalid choice')"
   ]
  },
  {
   "cell_type": "code",
   "execution_count": 1,
   "metadata": {},
   "outputs": [
    {
     "name": "stdout",
     "output_type": "stream",
     "text": [
      "Hello\n"
     ]
    }
   ],
   "source": [
    "def print_msg(msg):\n",
    "\n",
    "    def printer():\n",
    "        print(msg)\n",
    "\n",
    "    printer()\n",
    "\n",
    "print_msg(\"Hello\")\n"
   ]
  },
  {
   "cell_type": "code",
   "execution_count": null,
   "metadata": {},
   "outputs": [],
   "source": []
  },
  {
   "cell_type": "code",
   "execution_count": 1,
   "metadata": {},
   "outputs": [],
   "source": [
    "def factorial(n):\n",
    "    r = 1\n",
    "    while n>0:\n",
    "        r = r* n\n",
    "        n = n-1\n",
    "    return r"
   ]
  },
  {
   "cell_type": "code",
   "execution_count": 2,
   "metadata": {},
   "outputs": [
    {
     "data": {
      "text/plain": [
       "720"
      ]
     },
     "execution_count": 2,
     "metadata": {},
     "output_type": "execute_result"
    }
   ],
   "source": [
    "factorial(6)"
   ]
  },
  {
   "cell_type": "code",
   "execution_count": 11,
   "metadata": {},
   "outputs": [],
   "source": [
    "def power_of_func(x,y):\n",
    "    r = 1\n",
    "    while y > 0:\n",
    "        r = r *x\n",
    "        y = y -1\n",
    "    return r"
   ]
  },
  {
   "cell_type": "code",
   "execution_count": 12,
   "metadata": {},
   "outputs": [
    {
     "data": {
      "text/plain": [
       "27"
      ]
     },
     "execution_count": 12,
     "metadata": {},
     "output_type": "execute_result"
    }
   ],
   "source": [
    "power_of_func(3,3)"
   ]
  },
  {
   "cell_type": "code",
   "execution_count": 13,
   "metadata": {},
   "outputs": [],
   "source": [
    "def power(x,y=2):\n",
    "    r = 1\n",
    "    while y>0:\n",
    "        r = r*x\n",
    "        y = y-1\n",
    "        \n",
    "    return r"
   ]
  },
  {
   "cell_type": "code",
   "execution_count": 14,
   "metadata": {},
   "outputs": [
    {
     "data": {
      "text/plain": [
       "64"
      ]
     },
     "execution_count": 14,
     "metadata": {},
     "output_type": "execute_result"
    }
   ],
   "source": [
    "power(8,2)"
   ]
  },
  {
   "cell_type": "code",
   "execution_count": 22,
   "metadata": {},
   "outputs": [
    {
     "data": {
      "text/plain": [
       "234"
      ]
     },
     "execution_count": 22,
     "metadata": {},
     "output_type": "execute_result"
    }
   ],
   "source": [
    "lst = [1,22,33,44,21,23,234]\n",
    "lst.sort()\n",
    "lst[-1]"
   ]
  },
  {
   "cell_type": "code",
   "execution_count": 4,
   "metadata": {},
   "outputs": [],
   "source": [
    "def maxnum(*n):\n",
    "    if len(n)==0:\n",
    "        return none\n",
    "    else:\n",
    "        max = n[0]\n",
    "        for i in n[1:]:\n",
    "            if i > max:\n",
    "                max = i\n",
    "    return max"
   ]
  },
  {
   "cell_type": "code",
   "execution_count": 5,
   "metadata": {},
   "outputs": [
    {
     "data": {
      "text/plain": [
       "9"
      ]
     },
     "execution_count": 5,
     "metadata": {},
     "output_type": "execute_result"
    }
   ],
   "source": [
    "maxnum(3,6,4,1,8,9)"
   ]
  },
  {
   "cell_type": "code",
   "execution_count": 6,
   "metadata": {},
   "outputs": [
    {
     "name": "stdout",
     "output_type": "stream",
     "text": [
      "enter teh number want to enter in list:4\n",
      "enter number:1\n",
      "enter number:4\n",
      "enter number:54\n",
      "enter number:234\n",
      "234\n"
     ]
    }
   ],
   "source": [
    "lst = []\n",
    "num = int(input('enter teh number want to enter in list:'))\n",
    "for i in range(num):\n",
    "    n = int(input('enter number:'))\n",
    "    lst.append(n)\n",
    "    \n",
    "print(max(lst))"
   ]
  },
  {
   "cell_type": "code",
   "execution_count": null,
   "metadata": {},
   "outputs": [],
   "source": []
  }
 ],
 "metadata": {
  "kernelspec": {
   "display_name": "Python 3",
   "language": "python",
   "name": "python3"
  },
  "language_info": {
   "codemirror_mode": {
    "name": "ipython",
    "version": 3
   },
   "file_extension": ".py",
   "mimetype": "text/x-python",
   "name": "python",
   "nbconvert_exporter": "python",
   "pygments_lexer": "ipython3",
   "version": "3.7.4"
  }
 },
 "nbformat": 4,
 "nbformat_minor": 2
}
