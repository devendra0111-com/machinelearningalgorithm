{
 "cells": [
  {
   "cell_type": "code",
   "execution_count": 12,
   "metadata": {},
   "outputs": [
    {
     "name": "stdout",
     "output_type": "stream",
     "text": [
      "HELLO\n"
     ]
    }
   ],
   "source": [
    "def my_func():\n",
    "    word = 'HELLO'\n",
    "    print(word) \n",
    "my_func()"
   ]
  },
  {
   "cell_type": "code",
   "execution_count": 13,
   "metadata": {},
   "outputs": [
    {
     "name": "stdout",
     "output_type": "stream",
     "text": [
      "hello\n"
     ]
    }
   ],
   "source": [
    "word = 'hello'\n",
    "\n",
    "def my_func():\n",
    "    print(word)\n",
    "my_func()"
   ]
  },
  {
   "cell_type": "code",
   "execution_count": 23,
   "metadata": {},
   "outputs": [],
   "source": [
    "egg_count = 0\n",
    "\n",
    "def buy_eggs(egg_count):\n",
    "    egg_count = egg_count+ 12\n",
    "    return egg_count\n",
    "\n",
    "egg_count = buy_eggs(egg_count)"
   ]
  },
  {
   "cell_type": "code",
   "execution_count": 26,
   "metadata": {},
   "outputs": [
    {
     "name": "stdout",
     "output_type": "stream",
     "text": [
      "1\n"
     ]
    }
   ],
   "source": [
    "a = 23%2\n",
    "print(round(a))"
   ]
  },
  {
   "cell_type": "code",
   "execution_count": 32,
   "metadata": {},
   "outputs": [],
   "source": [
    "def func(a,b):\n",
    "    Sum = a + b\n",
    "    return Sum   "
   ]
  },
  {
   "cell_type": "code",
   "execution_count": 34,
   "metadata": {},
   "outputs": [
    {
     "name": "stdout",
     "output_type": "stream",
     "text": [
      "the sum is : 9\n"
     ]
    }
   ],
   "source": [
    "A = func(3,6)\n",
    "print('the sum is :',A)"
   ]
  },
  {
   "cell_type": "code",
   "execution_count": 4,
   "metadata": {},
   "outputs": [
    {
     "name": "stdout",
     "output_type": "stream",
     "text": [
      "Average of number is: 3.5\n"
     ]
    }
   ],
   "source": [
    "def avg_of_num(a,b,c,d):\n",
    "    Sum = a+ b +c+d\n",
    "    avg = Sum/4\n",
    "    return avg\n",
    "A = avg_of_num(2,3,4,5)\n",
    "print('Average of number is:', A)"
   ]
  },
  {
   "cell_type": "code",
   "execution_count": null,
   "metadata": {},
   "outputs": [],
   "source": []
  },
  {
   "cell_type": "code",
   "execution_count": 21,
   "metadata": {},
   "outputs": [
    {
     "name": "stdout",
     "output_type": "stream",
     "text": [
      "enter value:5\n",
      "enter value6\n",
      "Sum is: 11\n",
      "avg is: 5.5\n"
     ]
    }
   ],
   "source": [
    "def avg_of_Num(a,b):\n",
    "    SUM = a+b\n",
    "    avg = SUM/2\n",
    "    print('Sum is:',SUM)\n",
    "    \n",
    "    print('avg is:',avg)\n",
    "    \n",
    "a = int(input('enter value:'))\n",
    "b = int(input('enter value'))\n",
    "\n",
    "avg_of_Num(a,b)"
   ]
  },
  {
   "cell_type": "code",
   "execution_count": null,
   "metadata": {},
   "outputs": [],
   "source": []
  },
  {
   "cell_type": "code",
   "execution_count": 22,
   "metadata": {},
   "outputs": [
    {
     "name": "stdout",
     "output_type": "stream",
     "text": [
      "6\n"
     ]
    }
   ],
   "source": [
    "def multiplication():\n",
    "    a = 3\n",
    "    b = 2\n",
    "    multi = a*b\n",
    "    return multi\n",
    "print(multiplication())"
   ]
  },
  {
   "cell_type": "code",
   "execution_count": null,
   "metadata": {},
   "outputs": [],
   "source": []
  },
  {
   "cell_type": "code",
   "execution_count": null,
   "metadata": {},
   "outputs": [],
   "source": []
  }
 ],
 "metadata": {
  "kernelspec": {
   "display_name": "Python 3",
   "language": "python",
   "name": "python3"
  },
  "language_info": {
   "codemirror_mode": {
    "name": "ipython",
    "version": 3
   },
   "file_extension": ".py",
   "mimetype": "text/x-python",
   "name": "python",
   "nbconvert_exporter": "python",
   "pygments_lexer": "ipython3",
   "version": "3.7.4"
  }
 },
 "nbformat": 4,
 "nbformat_minor": 2
}
