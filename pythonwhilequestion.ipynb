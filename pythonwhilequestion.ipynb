{
 "cells": [
  {
   "cell_type": "code",
   "execution_count": 2,
   "metadata": {},
   "outputs": [
    {
     "name": "stdout",
     "output_type": "stream",
     "text": [
      "enter your name:dv\n",
      "enter your name:dwe\n",
      "dwe\n"
     ]
    }
   ],
   "source": [
    "name = input('enter your name:')\n",
    "if name == 'joe':\n",
    "    password = input('enter your password')\n",
    "    if password == 'swordfish':\n",
    "        print('access granted')\n",
    "    else:\n",
    "        print('invalid password')\n",
    "else:\n",
    "    print(input('enter your name:'))"
   ]
  },
  {
   "cell_type": "code",
   "execution_count": 5,
   "metadata": {},
   "outputs": [
    {
     "name": "stdout",
     "output_type": "stream",
     "text": [
      "enter your name:swe\n",
      "swe\n",
      "enter your name:swdr\n",
      "swdr\n",
      "enter your name:fr\n",
      "fr\n",
      "enter your name:ff\n",
      "ff\n",
      "enter your name:ffd\n",
      "ffd\n",
      "enter your name:dev\n",
      "dev\n",
      "out of loop\n"
     ]
    }
   ],
   "source": [
    "name = ''\n",
    "while(name != 'dev'):\n",
    "    name = input('enter your name:')\n",
    "    print(name)\n",
    "print('out of loop')"
   ]
  },
  {
   "cell_type": "code",
   "execution_count": null,
   "metadata": {},
   "outputs": [
    {
     "name": "stdout",
     "output_type": "stream",
     "text": [
      "enter your name:joy\n",
      "enter your name:swordfish\n",
      "swordfish\n",
      "enter your name:desc\n",
      "enter your name:dkmpd\n",
      "dkmpd\n",
      "enter your name:mdmd\n",
      "enter your name:lom\n",
      "lom\n",
      "enter your name:mdl,\n",
      "enter your name:flo,\n",
      "flo,\n",
      "enter your name:,dl,\n",
      "enter your name:mdo,\n",
      "mdo,\n",
      "enter your name:ldmod\n"
     ]
    }
   ],
   "source": [
    "while(True):\n",
    "    name = input('enter your name:')\n",
    "    if name == 'joe':\n",
    "        password = input('enter your password:')\n",
    "        if password == 'swordfish':\n",
    "            print('access granted')\n",
    "            break\n",
    "            \n",
    "    else:\n",
    "        print(input('enter your name:'))"
   ]
  },
  {
   "cell_type": "code",
   "execution_count": null,
   "metadata": {},
   "outputs": [],
   "source": []
  }
 ],
 "metadata": {
  "kernelspec": {
   "display_name": "Python 3",
   "language": "python",
   "name": "python3"
  },
  "language_info": {
   "codemirror_mode": {
    "name": "ipython",
    "version": 3
   },
   "file_extension": ".py",
   "mimetype": "text/x-python",
   "name": "python",
   "nbconvert_exporter": "python",
   "pygments_lexer": "ipython3",
   "version": "3.7.4"
  }
 },
 "nbformat": 4,
 "nbformat_minor": 2
}
