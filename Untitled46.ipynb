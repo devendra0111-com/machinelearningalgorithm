{
 "cells": [
  {
   "cell_type": "code",
   "execution_count": 12,
   "metadata": {},
   "outputs": [
    {
     "name": "stdout",
     "output_type": "stream",
     "text": [
      "10::20::30\n"
     ]
    }
   ],
   "source": [
    "a=10\n",
    "b=20\n",
    "c=30\n",
    "print(a,b,c,sep = '::')"
   ]
  },
  {
   "cell_type": "code",
   "execution_count": 21,
   "metadata": {},
   "outputs": [
    {
     "name": "stdout",
     "output_type": "stream",
     "text": [
      "False\n"
     ]
    }
   ],
   "source": [
    "list = [1,4,2,6,8]\n",
    "print(100 in list)"
   ]
  },
  {
   "cell_type": "code",
   "execution_count": null,
   "metadata": {},
   "outputs": [],
   "source": []
  },
  {
   "cell_type": "code",
   "execution_count": null,
   "metadata": {},
   "outputs": [],
   "source": []
  },
  {
   "cell_type": "code",
   "execution_count": null,
   "metadata": {},
   "outputs": [],
   "source": [
    "#car game instructions:"
   ]
  },
  {
   "cell_type": "code",
   "execution_count": 8,
   "metadata": {},
   "outputs": [
    {
     "name": "stdout",
     "output_type": "stream",
     "text": [
      ">help\n",
      "\n",
      "        start = START the car\n",
      "        stop = STOP the car\n",
      "        quit = QUIT\n",
      "        \n",
      ">start\n",
      "car started\n",
      ">stop\n",
      "CAR stopped.....\n",
      ">quit\n",
      "get out of this car game\n"
     ]
    }
   ],
   "source": [
    "command = ''\n",
    "started = False\n",
    "while command != 'quit':\n",
    "    command = input('>')\n",
    "    if command == \"start\":\n",
    "        if started:\n",
    "            print('car already started')\n",
    "        else:\n",
    "            started = True\n",
    "            print('car started')\n",
    "    elif command == 'stop':\n",
    "        print('CAR stopped.....')\n",
    "    elif command == 'help':\n",
    "        print('''\n",
    "        start = START the car\n",
    "        stop = STOP the car\n",
    "        quit = QUIT\n",
    "        ''')\n",
    "    elif command == \"quit\":\n",
    "        print('get out of this car game')\n",
    "    else:\n",
    "        print(\"i don't undestand\")"
   ]
  },
  {
   "cell_type": "raw",
   "metadata": {},
   "source": []
  },
  {
   "cell_type": "code",
   "execution_count": 3,
   "metadata": {},
   "outputs": [
    {
     "name": "stdout",
     "output_type": "stream",
     "text": [
      "2\n"
     ]
    }
   ],
   "source": [
    "nums = {1,2,3,4,5,6}\n",
    "nums = {0,1,2,3}& nums\n",
    "nums = filter(lambda x:x>1,nums)\n",
    "print(len(list(nums)))"
   ]
  },
  {
   "cell_type": "code",
   "execution_count": 17,
   "metadata": {},
   "outputs": [
    {
     "name": "stdout",
     "output_type": "stream",
     "text": [
      "1\n",
      "2\n",
      "3\n",
      "4\n",
      "5\n",
      "6\n",
      "7\n",
      "8\n",
      "9\n",
      "10\n",
      "2\n",
      "4\n",
      "6\n",
      "8\n",
      "10\n",
      "12\n",
      "14\n",
      "16\n",
      "18\n",
      "20\n",
      "3\n",
      "6\n",
      "9\n",
      "12\n",
      "15\n",
      "18\n",
      "21\n",
      "24\n",
      "27\n",
      "30\n",
      "4\n",
      "8\n",
      "12\n",
      "16\n",
      "20\n",
      "24\n",
      "28\n",
      "32\n",
      "36\n",
      "40\n",
      "5\n",
      "10\n",
      "15\n",
      "20\n",
      "25\n",
      "30\n",
      "35\n",
      "40\n",
      "45\n",
      "50\n",
      "6\n",
      "12\n",
      "18\n",
      "24\n",
      "30\n",
      "36\n",
      "42\n",
      "48\n",
      "54\n",
      "60\n",
      "7\n",
      "14\n",
      "21\n",
      "28\n",
      "35\n",
      "42\n",
      "49\n",
      "56\n",
      "63\n",
      "70\n",
      "8\n",
      "16\n",
      "24\n",
      "32\n",
      "40\n",
      "48\n",
      "56\n",
      "64\n",
      "72\n",
      "80\n",
      "9\n",
      "18\n",
      "27\n",
      "36\n",
      "45\n",
      "54\n",
      "63\n",
      "72\n",
      "81\n",
      "90\n"
     ]
    }
   ],
   "source": [
    "for x in range(1,10):\n",
    "    for y in range(1,11):\n",
    "        output = x*y\n",
    "        print(output)"
   ]
  },
  {
   "cell_type": "code",
   "execution_count": 1,
   "metadata": {},
   "outputs": [
    {
     "name": "stdout",
     "output_type": "stream",
     "text": [
      " \n"
     ]
    }
   ],
   "source": []
  },
  {
   "cell_type": "code",
   "execution_count": null,
   "metadata": {},
   "outputs": [],
   "source": []
  },
  {
   "cell_type": "code",
   "execution_count": 13,
   "metadata": {},
   "outputs": [
    {
     "name": "stdout",
     "output_type": "stream",
     "text": [
      "enter string:MY NAME NAME NAME\n",
      "N MAEY\n"
     ]
    }
   ],
   "source": [
    "#finding duplicate in the given string#\n",
    "\n",
    "s = input('enter string:')\n",
    "s1 = set(s)\n",
    "output = ''.join(s1)\n",
    "print(output)"
   ]
  },
  {
   "cell_type": "code",
   "execution_count": 15,
   "metadata": {},
   "outputs": [
    {
     "name": "stdout",
     "output_type": "stream",
     "text": [
      "enter string:abbbbcccdddeeeffff\n",
      "abcdef\n"
     ]
    }
   ],
   "source": [
    "s = input('enter string:')\n",
    "l = []\n",
    "for ch in s:\n",
    "    if ch not in l:\n",
    "        l.append(ch)\n",
    "output = ''.join(l)\n",
    "print(output)"
   ]
  },
  {
   "cell_type": "code",
   "execution_count": 1,
   "metadata": {},
   "outputs": [
    {
     "name": "stdout",
     "output_type": "stream",
     "text": [
      "enter the string value:mynameisdevendrapathakdid you understand that\n",
      "mynaeisdvrpthk ou\n"
     ]
    }
   ],
   "source": [
    "s = input('enter the string value:')\n",
    "a = ''\n",
    "for ch in s:\n",
    "    if ch not in a:\n",
    "        a = a + ch\n",
    "print(a)"
   ]
  },
  {
   "cell_type": "code",
   "execution_count": 4,
   "metadata": {},
   "outputs": [
    {
     "name": "stdout",
     "output_type": "stream",
     "text": [
      "6\n"
     ]
    }
   ],
   "source": [
    "s = 'ABCABCABCABCABCABC'\n",
    "print(s.count('ABC'))"
   ]
  },
  {
   "cell_type": "code",
   "execution_count": 7,
   "metadata": {},
   "outputs": [
    {
     "name": "stdout",
     "output_type": "stream",
     "text": [
      "enter your strig:dggdgdyghyxvyxgy\n",
      "enter subString:d\n",
      "d present at index : 0\n",
      "d present at index : 3\n",
      "d present at index : 5\n"
     ]
    }
   ],
   "source": [
    "s = input('enter your strig:')\n",
    "subs = input('enter subString:')\n",
    "i = s.find(subs)\n",
    "if i == -1:\n",
    "    print('Substring did not found')\n",
    "while i !=-1:\n",
    "    \n",
    "    print('{} present at index : {}'.format(subs,i))\n",
    "    i = s.find(subs,i+len(subs),len(s))\n",
    "    "
   ]
  },
  {
   "cell_type": "code",
   "execution_count": null,
   "metadata": {},
   "outputs": [],
   "source": []
  },
  {
   "cell_type": "code",
   "execution_count": 16,
   "metadata": {},
   "outputs": [
    {
     "name": "stdout",
     "output_type": "stream",
     "text": [
      "enter string:123456789\n",
      "987654321 is the revers of output\n"
     ]
    }
   ],
   "source": [
    "s = input('enter string:')\n",
    "output = s[::-1]\n",
    "print(output,'is the revers of output')"
   ]
  },
  {
   "cell_type": "code",
   "execution_count": 5,
   "metadata": {},
   "outputs": [
    {
     "name": "stdout",
     "output_type": "stream",
     "text": [
      "enter string:frv\n",
      "vrf\n"
     ]
    }
   ],
   "source": [
    "s = input('enter string:')\n",
    "r = reversed(s)\n",
    "output = ''.join(r)\n",
    "print(output)"
   ]
  },
  {
   "cell_type": "code",
   "execution_count": 7,
   "metadata": {},
   "outputs": [
    {
     "name": "stdout",
     "output_type": "stream",
     "text": [
      "this is class docstring\n"
     ]
    }
   ],
   "source": [
    "class Name:\n",
    "    '''this is class docstring'''\n",
    "print(Name.__doc__)"
   ]
  },
  {
   "cell_type": "code",
   "execution_count": 18,
   "metadata": {},
   "outputs": [
    {
     "name": "stdout",
     "output_type": "stream",
     "text": [
      "25942787528\n",
      "True\n"
     ]
    }
   ],
   "source": [
    "class Item:\n",
    "    def __init__(self,name,valuation,inventory_stock):\n",
    "        self.name = name\n",
    "        self.valuation = valuation\n",
    "        self.inventory_stock = inventory_stock\n",
    "        print(id(Item))\n",
    "        \n",
    "        \n",
    "    def transportation_cost(self):\n",
    "        \n",
    "I = Item('jeans',120000,True)\n",
    "print(I.inventory_stock)"
   ]
  },
  {
   "cell_type": "code",
   "execution_count": 23,
   "metadata": {},
   "outputs": [],
   "source": [
    "import array as arr"
   ]
  },
  {
   "cell_type": "code",
   "execution_count": 32,
   "metadata": {},
   "outputs": [
    {
     "data": {
      "text/plain": [
       "array('i', [1, 2, 3, 4, 5, 6])"
      ]
     },
     "execution_count": 32,
     "metadata": {},
     "output_type": "execute_result"
    }
   ],
   "source": [
    "a = arr.array('i',[1,2,3,4,5,6])\n",
    "a"
   ]
  },
  {
   "cell_type": "code",
   "execution_count": 33,
   "metadata": {},
   "outputs": [
    {
     "data": {
      "text/plain": [
       "array.array"
      ]
     },
     "execution_count": 33,
     "metadata": {},
     "output_type": "execute_result"
    }
   ],
   "source": [
    "type(a)"
   ]
  },
  {
   "cell_type": "code",
   "execution_count": 47,
   "metadata": {},
   "outputs": [],
   "source": [
    "class Student:\n",
    "    def __init__(self,name,roll_no,marks):\n",
    "        self.name = name\n",
    "        self.roll_no = roll_no\n",
    "        self.marks = marks\n",
    "        \n",
    "    def info(self):\n",
    "        print('Student name:',self.name)\n",
    "        print('Student roll_no:',self.roll_no)\n",
    "        \n",
    "s1 = Student('ABC',123,90)\n",
    "s2 = Student('DEF',234,89)\n",
    "s3 = Student('GHI',456,78)"
   ]
  },
  {
   "cell_type": "code",
   "execution_count": 45,
   "metadata": {},
   "outputs": [
    {
     "name": "stdout",
     "output_type": "stream",
     "text": [
      "ABC\n"
     ]
    }
   ],
   "source": [
    "print(s1.name)"
   ]
  },
  {
   "cell_type": "code",
   "execution_count": 46,
   "metadata": {},
   "outputs": [
    {
     "name": "stdout",
     "output_type": "stream",
     "text": [
      "Student name: GHI\n",
      "Studentroll_no: 456\n",
      "None\n"
     ]
    }
   ],
   "source": [
    "print(s3.info())"
   ]
  },
  {
   "cell_type": "code",
   "execution_count": 55,
   "metadata": {},
   "outputs": [
    {
     "data": {
      "text/plain": [
       "10"
      ]
     },
     "execution_count": 55,
     "metadata": {},
     "output_type": "execute_result"
    }
   ],
   "source": [
    "class Test:\n",
    "    def __init__(self):\n",
    "        print('no_argument')\n",
    "    def __init__(self,x):\n",
    "        self.x = x\n",
    "     \n",
    "        \n",
    "t1 = Test(10)\n",
    "t1.x"
   ]
  },
  {
   "cell_type": "code",
   "execution_count": 150,
   "metadata": {},
   "outputs": [],
   "source": [
    "class Student:\n",
    "    clg_name = 'TIT'\n",
    "    \n",
    "    def __init__(self,name,enrollment_no,branch):\n",
    "        self.name = name\n",
    "        self.enrollment_no = enrollment_no\n",
    "        self.branch = branch\n",
    "        \n",
    "    def info(self):\n",
    "        print('My name is:',self.name)\n",
    "        print('my enrollment_no is:',self.enrollment_no)\n",
    "        print('my branch is:',self.branch)\n",
    "        print('college name is:',s1.clg_name)\n",
    "        \n",
    "    def getCollegeName(self):\n",
    "        print('my college name is:',self.clg_name)\n",
    "        \n",
    "    def getaverage(x,y):\n",
    "        print('average is :',(x+y)/2)\n",
    "        \n",
    "        \n",
    "    def func(self):\n",
    "        self.backlog = False\n",
    "        \n",
    "s1 = Student('dev','0111me141097','MECHANICAL')\n",
    "s2 = Student('vani','192ee141167','ELECTRICAL')\n",
    "s3 = Student('Rahul','191cs141765', 'COMPUTER SCIENCE')\n",
    "s1.marks_in_internal = 76\n",
    "\n"
   ]
  },
  {
   "cell_type": "code",
   "execution_count": 151,
   "metadata": {},
   "outputs": [
    {
     "data": {
      "text/plain": [
       "'dev'"
      ]
     },
     "execution_count": 151,
     "metadata": {},
     "output_type": "execute_result"
    }
   ],
   "source": [
    "s1.name"
   ]
  },
  {
   "cell_type": "code",
   "execution_count": 152,
   "metadata": {},
   "outputs": [
    {
     "data": {
      "text/plain": [
       "'COMPUTER SCIENCE'"
      ]
     },
     "execution_count": 152,
     "metadata": {},
     "output_type": "execute_result"
    }
   ],
   "source": [
    "s3.branch"
   ]
  },
  {
   "cell_type": "code",
   "execution_count": 161,
   "metadata": {},
   "outputs": [
    {
     "name": "stdout",
     "output_type": "stream",
     "text": [
      "My name is: dev\n",
      "my enrollment_no is: 0111me141097\n",
      "my branch is: MECHANICAL\n",
      "college name is: TIT\n"
     ]
    }
   ],
   "source": [
    "s1.info()"
   ]
  },
  {
   "cell_type": "code",
   "execution_count": null,
   "metadata": {},
   "outputs": [],
   "source": []
  },
  {
   "cell_type": "code",
   "execution_count": 162,
   "metadata": {},
   "outputs": [
    {
     "name": "stdout",
     "output_type": "stream",
     "text": [
      "My name is: vani\n",
      "my enrollment_no is: 192ee141167\n",
      "my branch is: ELECTRICAL\n",
      "college name is: TIT\n"
     ]
    }
   ],
   "source": [
    "s2.info()"
   ]
  },
  {
   "cell_type": "code",
   "execution_count": 163,
   "metadata": {},
   "outputs": [
    {
     "name": "stdout",
     "output_type": "stream",
     "text": [
      "average is : 16.0\n"
     ]
    }
   ],
   "source": [
    "Student.getaverage(12,20)"
   ]
  },
  {
   "cell_type": "code",
   "execution_count": 164,
   "metadata": {},
   "outputs": [
    {
     "name": "stdout",
     "output_type": "stream",
     "text": [
      "{'name': 'vani', 'enrollment_no': '192ee141167', 'branch': 'ELECTRICAL'}\n"
     ]
    }
   ],
   "source": [
    "print(s2. __dict__)"
   ]
  },
  {
   "cell_type": "code",
   "execution_count": 165,
   "metadata": {},
   "outputs": [
    {
     "name": "stdout",
     "output_type": "stream",
     "text": [
      "My name is: vani\n",
      "my enrollment_no is: 192ee141167\n",
      "my branch is: ELECTRICAL\n",
      "college name is: TIT\n"
     ]
    }
   ],
   "source": [
    "s2.info()"
   ]
  },
  {
   "cell_type": "code",
   "execution_count": 166,
   "metadata": {},
   "outputs": [
    {
     "data": {
      "text/plain": [
       "76"
      ]
     },
     "execution_count": 166,
     "metadata": {},
     "output_type": "execute_result"
    }
   ],
   "source": [
    "s1.marks_in_internal"
   ]
  },
  {
   "cell_type": "code",
   "execution_count": 167,
   "metadata": {},
   "outputs": [
    {
     "name": "stdout",
     "output_type": "stream",
     "text": [
      "My name is: Rahul\n",
      "my enrollment_no is: 191cs141765\n",
      "my branch is: COMPUTER SCIENCE\n",
      "college name is: TIT\n"
     ]
    }
   ],
   "source": [
    "s3.info()"
   ]
  },
  {
   "cell_type": "code",
   "execution_count": null,
   "metadata": {},
   "outputs": [],
   "source": []
  },
  {
   "cell_type": "code",
   "execution_count": 176,
   "metadata": {},
   "outputs": [
    {
     "name": "stdout",
     "output_type": "stream",
     "text": [
      "WELCOME TO SBI\n",
      "enter your name:dev\n",
      "HIIII name\n",
      "d=Deposit\n",
      "w=Withdrwal\n",
      "e=Exit\n",
      "Enter your option :d\n",
      "enter deposit amount:500000\n",
      "Amount Deposited : 500000.0\n",
      "d=Deposit\n",
      "w=Withdrwal\n",
      "e=Exit\n",
      "Enter your option :w\n",
      "enter withdrawl amount:400000\n",
      "Amount Left after withdrawl 100000.0\n",
      "d=Deposit\n",
      "w=Withdrwal\n",
      "e=Exit\n",
      "Enter your option :W\n",
      "enter withdrawl amount:5100\n",
      "Amount Left after withdrawl 94900.0\n",
      "d=Deposit\n",
      "w=Withdrwal\n",
      "e=Exit\n",
      "Enter your option :e\n",
      "Thanks for banking with us\n"
     ]
    }
   ],
   "source": [
    "import sys\n",
    "class Customer:\n",
    "    bankname = 'SBI'\n",
    "    \n",
    "    def __init__(self,name,balance = 0):\n",
    "        self.name = name\n",
    "        self.balance = balance\n",
    "        \n",
    "    def deposit(self,amnt):\n",
    "        self.balance = self.balance + amnt\n",
    "        print('Amount Deposited :', self.balance)\n",
    "        \n",
    "    def withdrawl(self,amnt):\n",
    "        if amnt > self.balance :\n",
    "            print('sorry to process your request as no such amount is available')\n",
    "            sys.exit()\n",
    "        self.balance = self.balance - amnt\n",
    "        print('Amount Left after withdrawl',self.balance)\n",
    "            \n",
    "            \n",
    "print('WELCOME TO',Customer.bankname)\n",
    "name = input('enter your name:')\n",
    "print('HIIII name')\n",
    "c = Customer(name)\n",
    "while True:\n",
    "    print('d=Deposit\\nw=Withdrwal\\ne=Exit')\n",
    "    option = input('Enter your option :')\n",
    "    \n",
    "    if option == 'w' or option == 'W':\n",
    "        amnt = float(input('enter withdrawl amount:'))\n",
    "        c.withdrawl(amnt)\n",
    "        \n",
    "    elif option == 'd' or option == 'D':\n",
    "        amnt = float(input('enter deposit amount:'))\n",
    "        c.deposit(amnt)\n",
    "        \n",
    "    elif option == 'e' or option == 'E':\n",
    "        print('Thanks for banking with us')\n",
    "        break\n",
    "    else:\n",
    "        print('Choose valid option')"
   ]
  },
  {
   "cell_type": "code",
   "execution_count": null,
   "metadata": {},
   "outputs": [],
   "source": []
  },
  {
   "cell_type": "code",
   "execution_count": null,
   "metadata": {},
   "outputs": [],
   "source": []
  },
  {
   "cell_type": "code",
   "execution_count": null,
   "metadata": {},
   "outputs": [],
   "source": []
  },
  {
   "cell_type": "code",
   "execution_count": null,
   "metadata": {},
   "outputs": [],
   "source": []
  },
  {
   "cell_type": "code",
   "execution_count": null,
   "metadata": {},
   "outputs": [],
   "source": []
  },
  {
   "cell_type": "code",
   "execution_count": null,
   "metadata": {},
   "outputs": [],
   "source": []
  },
  {
   "cell_type": "code",
   "execution_count": null,
   "metadata": {},
   "outputs": [],
   "source": []
  }
 ],
 "metadata": {
  "kernelspec": {
   "display_name": "Python 3",
   "language": "python",
   "name": "python3"
  },
  "language_info": {
   "codemirror_mode": {
    "name": "ipython",
    "version": 3
   },
   "file_extension": ".py",
   "mimetype": "text/x-python",
   "name": "python",
   "nbconvert_exporter": "python",
   "pygments_lexer": "ipython3",
   "version": "3.7.4"
  }
 },
 "nbformat": 4,
 "nbformat_minor": 2
}
