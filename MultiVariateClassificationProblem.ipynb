{
 "cells": [
  {
   "cell_type": "code",
   "execution_count": 54,
   "metadata": {},
   "outputs": [],
   "source": [
    "import numpy as np\n",
    "import pandas as pd\n",
    "from scipy.io import loadmat\n",
    "import matplotlib.pyplot as plt\n",
    "%matplotlib inline"
   ]
  },
  {
   "cell_type": "code",
   "execution_count": 55,
   "metadata": {},
   "outputs": [
    {
     "data": {
      "text/plain": [
       "{'__header__': b'MATLAB 5.0 MAT-file, Platform: GLNXA64, Created on: Sun Oct 16 13:09:09 2011',\n",
       " '__version__': '1.0',\n",
       " '__globals__': [],\n",
       " 'X': array([[0., 0., 0., ..., 0., 0., 0.],\n",
       "        [0., 0., 0., ..., 0., 0., 0.],\n",
       "        [0., 0., 0., ..., 0., 0., 0.],\n",
       "        ...,\n",
       "        [0., 0., 0., ..., 0., 0., 0.],\n",
       "        [0., 0., 0., ..., 0., 0., 0.],\n",
       "        [0., 0., 0., ..., 0., 0., 0.]]),\n",
       " 'y': array([[10],\n",
       "        [10],\n",
       "        [10],\n",
       "        ...,\n",
       "        [ 9],\n",
       "        [ 9],\n",
       "        [ 9]], dtype=uint8)}"
      ]
     },
     "execution_count": 55,
     "metadata": {},
     "output_type": "execute_result"
    }
   ],
   "source": [
    "data = loadmat(\"E:\\ex3data1.mat\")\n",
    "data"
   ]
  },
  {
   "cell_type": "code",
   "execution_count": 56,
   "metadata": {},
   "outputs": [
    {
     "data": {
      "text/plain": [
       "dict"
      ]
     },
     "execution_count": 56,
     "metadata": {},
     "output_type": "execute_result"
    }
   ],
   "source": [
    "type(data)"
   ]
  },
  {
   "cell_type": "code",
   "execution_count": 57,
   "metadata": {},
   "outputs": [],
   "source": [
    "X = data['X']"
   ]
  },
  {
   "cell_type": "code",
   "execution_count": 58,
   "metadata": {},
   "outputs": [
    {
     "data": {
      "text/plain": [
       "array([[0., 0., 0., ..., 0., 0., 0.],\n",
       "       [0., 0., 0., ..., 0., 0., 0.],\n",
       "       [0., 0., 0., ..., 0., 0., 0.],\n",
       "       ...,\n",
       "       [0., 0., 0., ..., 0., 0., 0.],\n",
       "       [0., 0., 0., ..., 0., 0., 0.],\n",
       "       [0., 0., 0., ..., 0., 0., 0.]])"
      ]
     },
     "execution_count": 58,
     "metadata": {},
     "output_type": "execute_result"
    }
   ],
   "source": [
    "X"
   ]
  },
  {
   "cell_type": "code",
   "execution_count": 59,
   "metadata": {},
   "outputs": [],
   "source": [
    "y = data['y']"
   ]
  },
  {
   "cell_type": "code",
   "execution_count": 60,
   "metadata": {},
   "outputs": [
    {
     "data": {
      "text/plain": [
       "array([[10],\n",
       "       [10],\n",
       "       [10],\n",
       "       ...,\n",
       "       [ 9],\n",
       "       [ 9],\n",
       "       [ 9]], dtype=uint8)"
      ]
     },
     "execution_count": 60,
     "metadata": {},
     "output_type": "execute_result"
    }
   ],
   "source": [
    "y"
   ]
  },
  {
   "cell_type": "code",
   "execution_count": 61,
   "metadata": {},
   "outputs": [
    {
     "data": {
      "text/plain": [
       "(5000, 400)"
      ]
     },
     "execution_count": 61,
     "metadata": {},
     "output_type": "execute_result"
    }
   ],
   "source": [
    "X.shape"
   ]
  },
  {
   "cell_type": "code",
   "execution_count": 62,
   "metadata": {},
   "outputs": [
    {
     "data": {
      "text/plain": [
       "(5000, 1)"
      ]
     },
     "execution_count": 62,
     "metadata": {},
     "output_type": "execute_result"
    }
   ],
   "source": [
    "y.shape"
   ]
  },
  {
   "cell_type": "code",
   "execution_count": 63,
   "metadata": {},
   "outputs": [
    {
     "data": {
      "text/plain": [
       "array([ 1,  2,  3,  4,  5,  6,  7,  8,  9, 10], dtype=uint8)"
      ]
     },
     "execution_count": 63,
     "metadata": {},
     "output_type": "execute_result"
    }
   ],
   "source": [
    "np.unique(y)"
   ]
  },
  {
   "cell_type": "code",
   "execution_count": 64,
   "metadata": {},
   "outputs": [
    {
     "data": {
      "text/plain": [
       "array([-0.13196323, -0.11993388, -0.11220256, ...,  1.12024444,\n",
       "        1.12393404,  1.1276883 ])"
      ]
     },
     "execution_count": 64,
     "metadata": {},
     "output_type": "execute_result"
    }
   ],
   "source": [
    "np.unique(X)"
   ]
  },
  {
   "cell_type": "code",
   "execution_count": 65,
   "metadata": {},
   "outputs": [],
   "source": [
    "def computecost(X,y,theta):\n",
    "    first = np.multiply(-y, np.log(sigmoid(X*theta.T)))\n",
    "    second = np.multiply((1-y),np.log(1-sigmoid(X*theta.T)))\n",
    "    return np.sum(first-second)/(len(X))"
   ]
  },
  {
   "cell_type": "code",
   "execution_count": 66,
   "metadata": {},
   "outputs": [],
   "source": [
    "def sigmoid(z):\n",
    "    return 1/(1+np.exp(-z))"
   ]
  },
  {
   "cell_type": "code",
   "execution_count": 67,
   "metadata": {},
   "outputs": [
    {
     "data": {
      "text/plain": [
       "array([[1., 0., 0., ..., 0., 0., 0.],\n",
       "       [1., 0., 0., ..., 0., 0., 0.],\n",
       "       [1., 0., 0., ..., 0., 0., 0.],\n",
       "       ...,\n",
       "       [1., 0., 0., ..., 0., 0., 0.],\n",
       "       [1., 0., 0., ..., 0., 0., 0.],\n",
       "       [1., 0., 0., ..., 0., 0., 0.]])"
      ]
     },
     "execution_count": 67,
     "metadata": {},
     "output_type": "execute_result"
    }
   ],
   "source": [
    "X = np.insert(X,0,1,axis = 1)\n",
    "X"
   ]
  },
  {
   "cell_type": "code",
   "execution_count": 68,
   "metadata": {},
   "outputs": [
    {
     "data": {
      "text/plain": [
       "array([[10],\n",
       "       [10],\n",
       "       [10],\n",
       "       ...,\n",
       "       [ 9],\n",
       "       [ 9],\n",
       "       [ 9]], dtype=uint8)"
      ]
     },
     "execution_count": 68,
     "metadata": {},
     "output_type": "execute_result"
    }
   ],
   "source": [
    "y"
   ]
  },
  {
   "cell_type": "code",
   "execution_count": 69,
   "metadata": {},
   "outputs": [],
   "source": [
    "X = np.matrix(X)\n",
    "y = np.matrix(y)\n",
    "theta = np.matrix(np.zeros(401))"
   ]
  },
  {
   "cell_type": "code",
   "execution_count": 70,
   "metadata": {},
   "outputs": [
    {
     "data": {
      "text/plain": [
       "matrix([[1., 0., 0., ..., 0., 0., 0.],\n",
       "        [1., 0., 0., ..., 0., 0., 0.],\n",
       "        [1., 0., 0., ..., 0., 0., 0.],\n",
       "        ...,\n",
       "        [1., 0., 0., ..., 0., 0., 0.],\n",
       "        [1., 0., 0., ..., 0., 0., 0.],\n",
       "        [1., 0., 0., ..., 0., 0., 0.]])"
      ]
     },
     "execution_count": 70,
     "metadata": {},
     "output_type": "execute_result"
    }
   ],
   "source": [
    "X"
   ]
  },
  {
   "cell_type": "code",
   "execution_count": 71,
   "metadata": {},
   "outputs": [
    {
     "data": {
      "text/plain": [
       "matrix([[10],\n",
       "        [10],\n",
       "        [10],\n",
       "        ...,\n",
       "        [ 9],\n",
       "        [ 9],\n",
       "        [ 9]], dtype=uint8)"
      ]
     },
     "execution_count": 71,
     "metadata": {},
     "output_type": "execute_result"
    }
   ],
   "source": [
    "y"
   ]
  },
  {
   "cell_type": "code",
   "execution_count": 72,
   "metadata": {},
   "outputs": [],
   "source": [
    "def gradientdescent(X,y,theta,alpha,iters):\n",
    "    temp = np.matrix(np.zeros(401))\n",
    "    parameters = 401\n",
    "    cost = np.zeros(iters)\n",
    "    for i in range(iters):\n",
    "        error = sigmoid(X*theta.T)-y\n",
    "        for j in range(parameters):\n",
    "            term = np.multiply(error,X[:,j])\n",
    "            temp[0,j] = theta[0,j]-((alpha/len(X))*np.sum(term))\n",
    "        theta = temp\n",
    "        cost[i]= computecost(X,y,theta)\n",
    "    return theta,cost"
   ]
  },
  {
   "cell_type": "code",
   "execution_count": 73,
   "metadata": {},
   "outputs": [],
   "source": [
    "def getmodified(y,i):\n",
    "    x=[]\n",
    "    for j in range(len(y)):\n",
    "        if y[j] != i:\n",
    "            x.append(0)\n",
    "        else:\n",
    "            x.append(1)\n",
    "            \n",
    "    x = np.matrix(x)\n",
    "    x = x.reshape(5000,1)\n",
    "    return x  "
   ]
  },
  {
   "cell_type": "code",
   "execution_count": 74,
   "metadata": {},
   "outputs": [
    {
     "data": {
      "text/plain": [
       "matrix([[0],\n",
       "        [0],\n",
       "        [0],\n",
       "        ...,\n",
       "        [0],\n",
       "        [0],\n",
       "        [0]])"
      ]
     },
     "execution_count": 74,
     "metadata": {},
     "output_type": "execute_result"
    }
   ],
   "source": [
    "y_1 = getmodified(y,1)\n",
    "y_1"
   ]
  },
  {
   "cell_type": "code",
   "execution_count": 75,
   "metadata": {},
   "outputs": [
    {
     "data": {
      "text/plain": [
       "matrix([[0, 0, 0, ..., 1, 1, 1]])"
      ]
     },
     "execution_count": 75,
     "metadata": {},
     "output_type": "execute_result"
    }
   ],
   "source": [
    "np.unique(y_1)"
   ]
  },
  {
   "cell_type": "code",
   "execution_count": 76,
   "metadata": {},
   "outputs": [
    {
     "data": {
      "text/plain": [
       "(5000, 1)"
      ]
     },
     "execution_count": 76,
     "metadata": {},
     "output_type": "execute_result"
    }
   ],
   "source": [
    "y_1.shape"
   ]
  },
  {
   "cell_type": "code",
   "execution_count": 77,
   "metadata": {},
   "outputs": [
    {
     "data": {
      "text/plain": [
       "((5000, 401), (5000, 1), (1, 401))"
      ]
     },
     "execution_count": 77,
     "metadata": {},
     "output_type": "execute_result"
    }
   ],
   "source": [
    "X.shape,y_1.shape,theta.shape"
   ]
  },
  {
   "cell_type": "code",
   "execution_count": null,
   "metadata": {},
   "outputs": [],
   "source": []
  },
  {
   "cell_type": "code",
   "execution_count": 78,
   "metadata": {},
   "outputs": [],
   "source": [
    "all_theta =[]\n",
    "for i in range(10):\n",
    "    theta = np.matrix(np.zeros(401))\n",
    "    y_1 = getmodified(y,i)\n",
    "    final_theta,cost_matrix = gradientdescent(X,y_1,theta,0.001,100)\n",
    "    all_theta.append(final_theta)\n",
    "    \n",
    "all_theta = np.matrix(np.array(all_theta))"
   ]
  },
  {
   "cell_type": "code",
   "execution_count": 79,
   "metadata": {},
   "outputs": [
    {
     "data": {
      "text/plain": [
       "matrix([[-4.02355806e-02,  0.00000000e+00,  0.00000000e+00, ...,\n",
       "         -1.58834781e-07,  1.58293043e-08,  0.00000000e+00],\n",
       "        [-3.15472923e-02,  0.00000000e+00,  0.00000000e+00, ...,\n",
       "         -1.37664922e-07,  1.63287755e-08,  0.00000000e+00],\n",
       "        [-3.22393353e-02,  0.00000000e+00,  0.00000000e+00, ...,\n",
       "          3.39807073e-07, -2.50707925e-08,  0.00000000e+00],\n",
       "        ...,\n",
       "        [-3.19259891e-02,  0.00000000e+00,  0.00000000e+00, ...,\n",
       "         -1.66961233e-07,  1.68287597e-08,  0.00000000e+00],\n",
       "        [-3.24450540e-02,  0.00000000e+00,  0.00000000e+00, ...,\n",
       "         -1.68019155e-07,  1.68461310e-08,  0.00000000e+00],\n",
       "        [-3.21242472e-02,  0.00000000e+00,  0.00000000e+00, ...,\n",
       "         -1.66804783e-07,  1.67755308e-08,  0.00000000e+00]])"
      ]
     },
     "execution_count": 79,
     "metadata": {},
     "output_type": "execute_result"
    }
   ],
   "source": [
    "all_theta"
   ]
  },
  {
   "cell_type": "code",
   "execution_count": 80,
   "metadata": {},
   "outputs": [
    {
     "data": {
      "text/plain": [
       "(10, 401)"
      ]
     },
     "execution_count": 80,
     "metadata": {},
     "output_type": "execute_result"
    }
   ],
   "source": [
    "all_theta.shape"
   ]
  },
  {
   "cell_type": "code",
   "execution_count": 81,
   "metadata": {},
   "outputs": [
    {
     "data": {
      "text/plain": [
       "matrix([[-4.02355806e-02,  0.00000000e+00,  0.00000000e+00,\n",
       "         -6.70099889e-09,  8.03107899e-08,  1.51282525e-07,\n",
       "         -4.77432683e-06, -6.11830981e-06, -3.69864209e-06,\n",
       "         -1.05537493e-06, -1.90133741e-06, -5.89628275e-07,\n",
       "          4.49738322e-07,  9.53155367e-07,  1.67900904e-06,\n",
       "          2.59625757e-06,  1.84069385e-06,  5.36469567e-07,\n",
       "          4.46236082e-09, -5.79442942e-09,  0.00000000e+00,\n",
       "         -1.87297259e-09,  1.49676711e-08,  7.16736893e-08,\n",
       "          1.35974208e-07,  1.06193091e-06, -7.04612989e-06,\n",
       "         -2.54528370e-05, -3.85088160e-05, -3.03867047e-05,\n",
       "         -1.20693297e-05,  3.67149927e-06,  8.33507807e-06,\n",
       "          9.15053844e-06,  1.04892198e-05,  2.84544845e-06,\n",
       "          1.22486337e-07,  1.99455013e-06,  2.14486741e-06,\n",
       "          3.15047692e-07,  7.56122401e-08,  1.60261452e-08,\n",
       "         -1.66952227e-07,  7.85778162e-07, -5.06277648e-06,\n",
       "         -3.29508737e-05, -1.14976056e-04, -2.00110518e-04,\n",
       "         -2.26168855e-04, -1.69645242e-04, -8.29834637e-05,\n",
       "         -5.33852913e-05, -5.12610519e-05, -1.29467182e-04,\n",
       "         -3.07703743e-04, -3.90850197e-04, -2.34859208e-04,\n",
       "         -7.42808001e-05, -2.07429227e-05,  7.82309778e-07,\n",
       "         -2.97417684e-07,  6.76285965e-08,  1.32322865e-08,\n",
       "         -1.84831476e-06, -6.90456632e-05, -2.27654614e-04,\n",
       "         -5.66167254e-04, -8.59936588e-04, -9.31639286e-04,\n",
       "         -8.76066156e-04, -8.59398489e-04, -1.04372124e-03,\n",
       "         -1.34019701e-03, -1.80735602e-03, -2.29859810e-03,\n",
       "         -2.39482912e-03, -1.64821247e-03, -6.71460498e-04,\n",
       "         -1.64349252e-04, -2.67274546e-05, -6.06297651e-06,\n",
       "          8.31877351e-08,  2.03206515e-06, -1.85492481e-05,\n",
       "         -2.33318780e-04, -7.52169989e-04, -1.49211601e-03,\n",
       "         -2.22113414e-03, -2.55514951e-03, -2.79831671e-03,\n",
       "         -3.33459169e-03, -4.03145014e-03, -4.58195252e-03,\n",
       "         -5.01577740e-03, -5.64823058e-03, -6.03312665e-03,\n",
       "         -4.83748198e-03, -2.39090542e-03, -6.40691967e-04,\n",
       "         -1.62834143e-04, -3.76502694e-05, -1.07749889e-06,\n",
       "         -1.59264080e-06, -6.91387172e-05, -6.33097814e-04,\n",
       "         -1.92636929e-03, -3.60202162e-03, -5.21389122e-03,\n",
       "         -6.15436161e-03, -7.04609942e-03, -8.18676177e-03,\n",
       "         -8.77587847e-03, -8.62417585e-03, -8.25202233e-03,\n",
       "         -8.49897466e-03, -9.57235158e-03, -9.29095405e-03,\n",
       "         -5.89867603e-03, -2.00699525e-03, -5.83026527e-04,\n",
       "         -1.04991443e-04, -2.19856025e-06, -1.34685832e-05,\n",
       "         -2.00824423e-04, -1.39981998e-03, -3.91696326e-03,\n",
       "         -7.11941261e-03, -9.61207620e-03, -1.11874152e-02,\n",
       "         -1.22596258e-02, -1.30564615e-02, -1.29538003e-02,\n",
       "         -1.19294533e-02, -1.03528478e-02, -9.97475366e-03,\n",
       "         -1.17783815e-02, -1.31456090e-02, -1.02902226e-02,\n",
       "         -4.14065900e-03, -1.11240134e-03, -1.60618915e-04,\n",
       "          3.87323898e-07, -2.23022593e-05, -4.68286280e-04,\n",
       "         -2.84375559e-03, -7.13739514e-03, -1.16753719e-02,\n",
       "         -1.46221676e-02, -1.55988783e-02, -1.52689096e-02,\n",
       "         -1.49284283e-02, -1.45936679e-02, -1.36549049e-02,\n",
       "         -1.17618549e-02, -1.13701292e-02, -1.36316669e-02,\n",
       "         -1.64261498e-02, -1.45023740e-02, -6.41917679e-03,\n",
       "         -1.50997339e-03, -2.09749773e-04,  1.91144368e-06,\n",
       "         -2.24461398e-05, -8.69085594e-04, -4.88000625e-03,\n",
       "         -1.08134683e-02, -1.58513558e-02, -1.77160641e-02,\n",
       "         -1.58982582e-02, -1.38126643e-02, -1.37341683e-02,\n",
       "         -1.51219722e-02, -1.54699235e-02, -1.33048641e-02,\n",
       "         -1.25558472e-02, -1.53950523e-02, -1.87836927e-02,\n",
       "         -1.68434539e-02, -7.52816420e-03, -1.51566225e-03,\n",
       "         -2.34109110e-04,  7.41946192e-06, -5.19144407e-05,\n",
       "         -1.41429821e-03, -7.26418003e-03, -1.45333816e-02,\n",
       "         -1.89603082e-02, -1.78905917e-02, -1.34543985e-02,\n",
       "         -1.17353588e-02, -1.39842674e-02, -1.79748623e-02,\n",
       "         -1.84432257e-02, -1.54819513e-02, -1.47326533e-02,\n",
       "         -1.76084053e-02, -2.00839017e-02, -1.69650633e-02,\n",
       "         -7.50670166e-03, -1.48113621e-03, -2.49090544e-04,\n",
       "          1.59507945e-05, -1.30178834e-04, -2.07631606e-03,\n",
       "         -9.54932751e-03, -1.76955317e-02, -2.03629669e-02,\n",
       "         -1.66451614e-02, -1.21389313e-02, -1.24097706e-02,\n",
       "         -1.67478282e-02, -2.10039878e-02, -2.06844019e-02,\n",
       "         -1.79684549e-02, -1.72087224e-02, -1.90889433e-02,\n",
       "         -1.95698625e-02, -1.49112489e-02, -6.36511560e-03,\n",
       "         -1.39114753e-03, -2.33849470e-04,  2.22173024e-05,\n",
       "         -2.54909679e-04, -2.51174357e-03, -1.03486539e-02,\n",
       "         -1.84209031e-02, -2.04443738e-02, -1.66894406e-02,\n",
       "         -1.35788049e-02, -1.48087360e-02, -1.91435697e-02,\n",
       "         -2.18934732e-02, -2.05732810e-02, -1.82579115e-02,\n",
       "         -1.76152349e-02, -1.84451432e-02, -1.68136646e-02,\n",
       "         -1.12989874e-02, -4.55046726e-03, -1.11163367e-03,\n",
       "         -1.76180210e-04,  3.04748352e-05, -2.99937311e-04,\n",
       "         -2.35305361e-03, -9.42266852e-03, -1.68093156e-02,\n",
       "         -1.97305002e-02, -1.79189615e-02, -1.59601220e-02,\n",
       "         -1.67279691e-02, -1.90726471e-02, -1.99419891e-02,\n",
       "         -1.85990250e-02, -1.68497056e-02, -1.64606610e-02,\n",
       "         -1.58548464e-02, -1.23417530e-02, -7.21123210e-03,\n",
       "         -2.72598821e-03, -7.03318903e-04, -1.04835801e-04,\n",
       "          2.31321380e-05, -2.06533762e-04, -1.59095424e-03,\n",
       "         -7.03551986e-03, -1.34180978e-02, -1.71438910e-02,\n",
       "         -1.72563797e-02, -1.59039229e-02, -1.53860168e-02,\n",
       "         -1.51373442e-02, -1.46091285e-02, -1.41659979e-02,\n",
       "         -1.37047436e-02, -1.32264365e-02, -1.14998947e-02,\n",
       "         -7.80903050e-03, -4.03838179e-03, -1.44501176e-03,\n",
       "         -3.46826272e-04, -3.77775083e-05,  8.39646424e-06,\n",
       "         -9.02470384e-05, -8.00970923e-04, -4.28238004e-03,\n",
       "         -8.91948034e-03, -1.26070450e-02, -1.36802650e-02,\n",
       "         -1.27079782e-02, -1.11483478e-02, -9.86936479e-03,\n",
       "         -9.50018946e-03, -9.74044225e-03, -9.77014262e-03,\n",
       "         -8.83158334e-03, -7.04271722e-03, -4.29735284e-03,\n",
       "         -1.98218105e-03, -7.42400504e-04, -2.02117549e-04,\n",
       "         -1.54871828e-05,  9.05288130e-07, -1.97578579e-05,\n",
       "         -2.66470053e-04, -1.96769274e-03, -4.74691754e-03,\n",
       "         -7.31793022e-03, -8.21895036e-03, -7.27371699e-03,\n",
       "         -5.97279911e-03, -5.48271224e-03, -5.57914648e-03,\n",
       "         -5.72493654e-03, -5.57332219e-03, -4.81028030e-03,\n",
       "         -3.45985478e-03, -1.89064602e-03, -8.28266190e-04,\n",
       "         -3.13854903e-04, -1.01751084e-04, -1.58833202e-05,\n",
       "          7.43877493e-08,  2.41115493e-06, -7.91595074e-05,\n",
       "         -8.80518456e-04, -2.37030785e-03, -3.66794846e-03,\n",
       "         -3.78163808e-03, -3.05339578e-03, -2.61708328e-03,\n",
       "         -2.71909590e-03, -2.84832669e-03, -2.82827781e-03,\n",
       "         -2.59668213e-03, -2.12650491e-03, -1.43602883e-03,\n",
       "         -7.41153810e-04, -2.97234679e-04, -1.03157291e-04,\n",
       "         -3.11326611e-05, -5.51012790e-06,  2.22156444e-07,\n",
       "          1.18950507e-06, -8.97206083e-06, -2.81315442e-04,\n",
       "         -9.31027838e-04, -1.39881291e-03, -1.14916085e-03,\n",
       "         -6.26477370e-04, -5.90024007e-04, -7.78413516e-04,\n",
       "         -8.34396968e-04, -8.52350116e-04, -8.39508891e-04,\n",
       "         -6.13412562e-04, -4.21868887e-04, -2.29016589e-04,\n",
       "         -6.20800871e-05, -5.48713459e-06, -2.79420976e-06,\n",
       "          3.89686854e-07, -8.78275715e-09,  8.88734160e-08,\n",
       "          3.85881500e-06, -1.91697229e-05, -1.70063744e-04,\n",
       "         -3.44671535e-04, -2.17020590e-04, -3.91232429e-05,\n",
       "         -9.12424017e-06, -1.69047965e-05, -2.62761065e-05,\n",
       "         -5.57654540e-05, -1.07053327e-04, -6.39355017e-05,\n",
       "         -3.99020367e-05, -3.62172632e-05, -9.92766554e-06,\n",
       "          2.52803928e-06,  4.41556805e-07,  3.69951012e-08,\n",
       "          0.00000000e+00, -1.28653085e-08,  1.56038341e-07,\n",
       "          7.67309762e-07, -1.26128584e-05, -2.00561347e-05,\n",
       "         -5.04371672e-06,  8.62644288e-07, -3.46754942e-06,\n",
       "          1.96925487e-06,  2.81765246e-06, -6.70464779e-07,\n",
       "         -5.35671081e-06, -1.95281186e-06, -3.23986151e-07,\n",
       "         -8.74558267e-07, -2.83955649e-07, -1.58834781e-07,\n",
       "          1.58293043e-08,  0.00000000e+00]])"
      ]
     },
     "execution_count": 81,
     "metadata": {},
     "output_type": "execute_result"
    }
   ],
   "source": [
    "all_theta[0]"
   ]
  },
  {
   "cell_type": "code",
   "execution_count": 82,
   "metadata": {},
   "outputs": [
    {
     "data": {
      "text/plain": [
       "matrix([[0.29868309, 0.31794316, 0.3348784 , ..., 0.32896907, 0.33833982,\n",
       "         0.330395  ],\n",
       "        [0.28311799, 0.30683937, 0.32090622, ..., 0.31659586, 0.32438396,\n",
       "         0.31620224],\n",
       "        [0.24734237, 0.27516688, 0.29253209, ..., 0.2852679 , 0.30127019,\n",
       "         0.2881779 ],\n",
       "        ...,\n",
       "        [0.37686637, 0.39306945, 0.39929405, ..., 0.39714864, 0.40433887,\n",
       "         0.40628277],\n",
       "        [0.2665766 , 0.29443881, 0.30276885, ..., 0.31370753, 0.31392749,\n",
       "         0.31811078],\n",
       "        [0.30383461, 0.32024881, 0.34442026, ..., 0.34179858, 0.34321015,\n",
       "         0.34122112]])"
      ]
     },
     "execution_count": 82,
     "metadata": {},
     "output_type": "execute_result"
    }
   ],
   "source": [
    "predicted_prob = sigmoid(X*all_theta.T)\n",
    "predicted_prob"
   ]
  },
  {
   "cell_type": "code",
   "execution_count": 83,
   "metadata": {},
   "outputs": [
    {
     "data": {
      "text/plain": [
       "matrix([[0.29868309, 0.31794316, 0.3348784 , 0.33770385, 0.32597285,\n",
       "         0.33888561, 0.33639089, 0.32896907, 0.33833982, 0.330395  ]])"
      ]
     },
     "execution_count": 83,
     "metadata": {},
     "output_type": "execute_result"
    }
   ],
   "source": [
    "predicted_prob[0]"
   ]
  },
  {
   "cell_type": "code",
   "execution_count": 84,
   "metadata": {},
   "outputs": [],
   "source": [
    "#threshold = 0.58\n",
    "#y_pred = [1 if  > threshold else 0 for X in predicted_prob]\n",
    "#y = np.array(y).ravel()\n",
    "#y"
   ]
  },
  {
   "cell_type": "code",
   "execution_count": 44,
   "metadata": {},
   "outputs": [
    {
     "data": {
      "text/plain": [
       "matrix([[ 6],\n",
       "        [ 6],\n",
       "        [ 9],\n",
       "        ...,\n",
       "        [10],\n",
       "        [10],\n",
       "        [ 8]], dtype=int64)"
      ]
     },
     "execution_count": 44,
     "metadata": {},
     "output_type": "execute_result"
    }
   ],
   "source": [
    "y_pred=np.argmax(predicted_prob,axis=1)+1#index of maximum probability\n",
    "y_pred"
   ]
  },
  {
   "cell_type": "code",
   "execution_count": 45,
   "metadata": {},
   "outputs": [
    {
     "data": {
      "text/plain": [
       "matrix([[6]], dtype=uint8)"
      ]
     },
     "execution_count": 45,
     "metadata": {},
     "output_type": "execute_result"
    }
   ],
   "source": [
    "y[3000]"
   ]
  },
  {
   "cell_type": "code",
   "execution_count": 46,
   "metadata": {},
   "outputs": [
    {
     "name": "stdout",
     "output_type": "stream",
     "text": [
      "1.68 % accuracy\n"
     ]
    }
   ],
   "source": [
    "count = 0\n",
    "for i in range(len(y_pred)):\n",
    "    if y_pred[i]==y[i]:\n",
    "        count += 1\n",
    "print(count*100/len(y),'% accuracy')"
   ]
  },
  {
   "cell_type": "code",
   "execution_count": null,
   "metadata": {},
   "outputs": [],
   "source": []
  },
  {
   "cell_type": "code",
   "execution_count": 47,
   "metadata": {},
   "outputs": [
    {
     "name": "stdout",
     "output_type": "stream",
     "text": [
      "[4]\n"
     ]
    },
    {
     "data": {
      "image/png": "[encoded data removed]",
      "text/plain": [
       "<Figure size 432x288 with 1 Axes>"
      ]
     },
     "metadata": {
      "needs_background": "light"
     },
     "output_type": "display_data"
    }
   ],
   "source": [
    "X = data['X']\n",
    "y = data['y']\n",
    "number = np.reshape(X[2096,:],(20,20))\n",
    "plt.imshow(number)\n",
    "print(y[2096])"
   ]
  },
  {
   "cell_type": "code",
   "execution_count": null,
   "metadata": {},
   "outputs": [],
   "source": []
  }
 ],
 "metadata": {
  "kernelspec": {
   "display_name": "Python 3",
   "language": "python",
   "name": "python3"
  },
  "language_info": {
   "codemirror_mode": {
    "name": "ipython",
    "version": 3
   },
   "file_extension": ".py",
   "mimetype": "text/x-python",
   "name": "python",
   "nbconvert_exporter": "python",
   "pygments_lexer": "ipython3",
   "version": "3.7.4"
  }
 },
 "nbformat": 4,
 "nbformat_minor": 2
}
